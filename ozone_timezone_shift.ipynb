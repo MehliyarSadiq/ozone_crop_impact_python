{
 "cells": [
  {
   "cell_type": "code",
   "execution_count": 6,
   "metadata": {},
   "outputs": [],
   "source": [
    "%run tools.ipynb"
   ]
  },
  {
   "cell_type": "code",
   "execution_count": 7,
   "metadata": {},
   "outputs": [],
   "source": [
    "def timezone_shift(dr_local):\n",
    "    '''\n",
    "    convert UTC time to local time\n",
    "    '''\n",
    "    new_dr = dr_local.copy()\n",
    "    new_dr[:,:,:] = 0.\n",
    "\n",
    "    for ilon, lon in enumerate(new_dr.lon.values):\n",
    "        xlon = math.ceil(lon / 15)\n",
    "\n",
    "        shift = np.roll(dr_local[:,:,ilon].values, xlon, axis = 0)\n",
    "        new_dr[:,:,ilon] = shift\n",
    "    \n",
    "    return new_dr"
   ]
  },
  {
   "cell_type": "code",
   "execution_count": 8,
   "metadata": {},
   "outputs": [],
   "source": [
    "fdir = '../data/ozone/moch/'\n",
    "# first data\n",
    "fname = 'geoE.Health_hr.5Yavg_SpeciesConc_O3_2x25.nc4'\n",
    "\n",
    "ds = xr.open_dataset(fdir + fname)\n",
    "dr = ds['SpeciesConc_O3'].isel(lev = 0)\n",
    "\n",
    "dr_new = timezone_shift(dr)\n",
    "dr_new.attrs = {} # error without this\n",
    "\n",
    "ds_new = dr_new.to_dataset(name = 'ozone')\n",
    "ds_new.attrs['comment'] = 'local time ozone concentration'\n",
    "\n",
    "ds_new.to_netcdf(path = fdir + 'geoE.localtime.nc')"
   ]
  },
  {
   "cell_type": "code",
   "execution_count": 9,
   "metadata": {},
   "outputs": [],
   "source": [
    "# second\n",
    "fname = 'GCHP.Health_hr.5Yavg_SpeciesConc_O3_2x25.nc4'\n",
    "\n",
    "ds = xr.open_dataset(fdir + fname)\n",
    "dr = ds['SpeciesConc_O3'].isel(lev = 0)\n",
    "\n",
    "dr_new = timezone_shift(dr)\n",
    "dr_new.attrs = {}\n",
    "\n",
    "ds_new = dr_new.to_dataset(name = 'ozone')\n",
    "ds_new.attrs['comment'] = 'local time ozone concentration'\n",
    "\n",
    "ds_new.to_netcdf(fdir + 'GCHP.localtime.nc')"
   ]
  },
  {
   "cell_type": "code",
   "execution_count": null,
   "metadata": {},
   "outputs": [],
   "source": []
  }
 ],
 "metadata": {
  "kernelspec": {
   "display_name": "Python 3",
   "language": "python",
   "name": "python3"
  },
  "language_info": {
   "codemirror_mode": {
    "name": "ipython",
    "version": 3
   },
   "file_extension": ".py",
   "mimetype": "text/x-python",
   "name": "python",
   "nbconvert_exporter": "python",
   "pygments_lexer": "ipython3",
   "version": "3.7.5"
  }
 },
 "nbformat": 4,
 "nbformat_minor": 2
}
