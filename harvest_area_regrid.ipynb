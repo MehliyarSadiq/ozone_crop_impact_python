{
 "cells": [
  {
   "cell_type": "code",
   "execution_count": 25,
   "metadata": {},
   "outputs": [],
   "source": [
    "import xarray as xr"
   ]
  },
  {
   "cell_type": "code",
   "execution_count": 26,
   "metadata": {},
   "outputs": [],
   "source": [
    "# regrid an xarray dataarray from finer resolution to coarser resolution (res)\n",
    "# dr is the dataarray\n",
    "def regrid_fine_to_coarse_sum_dr(dr, target, res_lat, res_lon):\n",
    "    target_copy = target.copy()\n",
    "    for ilon, lon in enumerate(target['lon'].values):\n",
    "        for ilat, lat in enumerate(target['lat'].values):\n",
    "            subset = dr.sel(lat=slice(lat-res_lat/2,lat+res_lat/2), lon = slice(lon-res_lon/2,lon+res_lon/2))\n",
    "            target_copy[ilat,ilon] = subset.sum().values\n",
    "    \n",
    "    return target_copy\n"
   ]
  },
  {
   "cell_type": "code",
   "execution_count": 27,
   "metadata": {},
   "outputs": [],
   "source": [
    "# crop yield\n",
    "fname = '../data/crop/crop_yield_2x2.5.nc'\n",
    "ds = xr.open_dataset(fname)\n",
    "dr_target = ds['maize_major'].copy()"
   ]
  },
  {
   "cell_type": "code",
   "execution_count": 28,
   "metadata": {},
   "outputs": [
    {
     "data": {
      "text/html": [
       "<pre>&lt;xarray.Dataset&gt;\n",
       "Dimensions:  (lat: 91, lon: 144)\n",
       "Coordinates:\n",
       "  * lon      (lon) float64 -180.0 -177.5 -175.0 -172.5 ... 172.5 175.0 177.5\n",
       "  * lat      (lat) float64 -89.5 -88.0 -86.0 -84.0 -82.0 ... 84.0 86.0 88.0 89.5\n",
       "Data variables:\n",
       "    maize    (lat, lon) float64 0.0 0.0 0.0 0.0 0.0 0.0 ... 0.0 0.0 0.0 0.0 0.0</pre>"
      ],
      "text/plain": [
       "<xarray.Dataset>\n",
       "Dimensions:  (lat: 91, lon: 144)\n",
       "Coordinates:\n",
       "  * lon      (lon) float64 -180.0 -177.5 -175.0 -172.5 ... 172.5 175.0 177.5\n",
       "  * lat      (lat) float64 -89.5 -88.0 -86.0 -84.0 -82.0 ... 84.0 86.0 88.0 89.5\n",
       "Data variables:\n",
       "    maize    (lat, lon) float64 0.0 0.0 0.0 0.0 0.0 0.0 ... 0.0 0.0 0.0 0.0 0.0"
      ]
     },
     "execution_count": 28,
     "metadata": {},
     "output_type": "execute_result"
    }
   ],
   "source": [
    "fname = '../data/crop/harvest_area/maize.nc' # rice, soybean, wheat\n",
    "ds = xr.open_dataset(fname)\n",
    "dr_harvest = ds['harvest.area'][-1,:,:]\n",
    "dr_harvest = dr_harvest.rename({'Lon': 'lon', 'Lat': 'lat'})\n",
    "harvest_regrid = regrid_fine_to_coarse_sum_dr(dr_harvest, dr_target, 2., 2.5)\n",
    "ds_out = harvest_regrid.to_dataset(name = 'maize')\n",
    "ds_out"
   ]
  },
  {
   "cell_type": "code",
   "execution_count": 29,
   "metadata": {},
   "outputs": [],
   "source": [
    "for icrop in ['rice', 'soybean', 'wheat']:\n",
    "    fname = '../data/crop/harvest_area/' + icrop + '.nc'\n",
    "    ds = xr.open_dataset(fname)\n",
    "    dr_harvest = ds['harvest.area'][-1,:,:]\n",
    "    dr_harvest = dr_harvest.rename({'Lon': 'lon', 'Lat': 'lat'})\n",
    "    harvest_regrid = regrid_fine_to_coarse_sum_dr(dr_harvest, dr_target, 2., 2.5)\n",
    "    ds_out[icrop] = harvest_regrid.copy()\n"
   ]
  },
  {
   "cell_type": "code",
   "execution_count": 35,
   "metadata": {},
   "outputs": [],
   "source": [
    "ds_out.to_netcdf('../data/crop/harvest_area.nc')"
   ]
  },
  {
   "cell_type": "code",
   "execution_count": null,
   "metadata": {},
   "outputs": [],
   "source": []
  }
 ],
 "metadata": {
  "kernelspec": {
   "display_name": "Python 3",
   "language": "python",
   "name": "python3"
  },
  "language_info": {
   "codemirror_mode": {
    "name": "ipython",
    "version": 3
   },
   "file_extension": ".py",
   "mimetype": "text/x-python",
   "name": "python",
   "nbconvert_exporter": "python",
   "pygments_lexer": "ipython3",
   "version": "3.7.5"
  }
 },
 "nbformat": 4,
 "nbformat_minor": 2
}
